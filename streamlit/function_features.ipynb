{
 "cells": [
  {
   "cell_type": "code",
   "execution_count": 17,
   "id": "0e2294e2",
   "metadata": {},
   "outputs": [],
   "source": [
    "import numpy as np \n",
    "import pandas as pd \n",
    "import math\n",
    "import seaborn as sns\n",
    "from urllib.parse import urlparse\n",
    "from tld import get_tld\n",
    "import os.path\n",
    "import re\n",
    "import pickle"
   ]
  },
  {
   "cell_type": "code",
   "execution_count": 18,
   "id": "f65566e8",
   "metadata": {},
   "outputs": [],
   "source": [
    "def entropy(url):\n",
    "    string = url.strip()\n",
    "    prob = [float(string.count(c)) / len(string) for c in dict.fromkeys(list(string))]\n",
    "    entropy = sum([(p * math.log(p) / math.log(2.0)) for p in prob])\n",
    "    return entropy"
   ]
  },
  {
   "cell_type": "code",
   "execution_count": 19,
   "id": "0f6c99fd",
   "metadata": {},
   "outputs": [],
   "source": [
    "#First Directory Length\n",
    "def fd_length(url):\n",
    "    urlpath= urlparse(url).path\n",
    "    try:\n",
    "        return len(urlpath.split('/')[1])\n",
    "    except:\n",
    "        return 0"
   ]
  },
  {
   "cell_type": "code",
   "execution_count": 20,
   "id": "5c5feb70",
   "metadata": {},
   "outputs": [],
   "source": [
    "def tld_length(tld):\n",
    "    try:\n",
    "        return len(tld)\n",
    "    except:\n",
    "        return -1"
   ]
  },
  {
   "cell_type": "code",
   "execution_count": 21,
   "id": "889503b6",
   "metadata": {},
   "outputs": [],
   "source": [
    "def digit_count(url):\n",
    "    digits = 0\n",
    "    for i in url:\n",
    "        if i.isnumeric():\n",
    "            digits = digits + 1\n",
    "    return digits"
   ]
  },
  {
   "cell_type": "code",
   "execution_count": 22,
   "id": "6e296cff",
   "metadata": {},
   "outputs": [],
   "source": [
    "def letter_count(url):\n",
    "    letters = 0\n",
    "    for i in url:\n",
    "        if i.isalpha():\n",
    "            letters = letters + 1\n",
    "    return letters"
   ]
  },
  {
   "cell_type": "code",
   "execution_count": 23,
   "id": "3ef5ff4e",
   "metadata": {},
   "outputs": [],
   "source": [
    "def no_of_dir(url):\n",
    "    urldir = urlparse(url).path\n",
    "    return urldir.count('/')"
   ]
  },
  {
   "cell_type": "code",
   "execution_count": 24,
   "id": "46ed9609",
   "metadata": {},
   "outputs": [],
   "source": [
    "def having_ip_address(url):\n",
    "    match = re.search(\n",
    "        '(([01]?\\\\d\\\\d?|2[0-4]\\\\d|25[0-5])\\\\.([01]?\\\\d\\\\d?|2[0-4]\\\\d|25[0-5])\\\\.([01]?\\\\d\\\\d?|2[0-4]\\\\d|25[0-5])\\\\.'\n",
    "        '([01]?\\\\d\\\\d?|2[0-4]\\\\d|25[0-5])\\\\/)|'  # IPv4\n",
    "        '((0x[0-9a-fA-F]{1,2})\\\\.(0x[0-9a-fA-F]{1,2})\\\\.(0x[0-9a-fA-F]{1,2})\\\\.(0x[0-9a-fA-F]{1,2})\\\\/)' # IPv4 in hexadecimal\n",
    "        '(?:[a-fA-F0-9]{1,4}:){7}[a-fA-F0-9]{1,4}', url)  # Ipv6\n",
    "    if match:\n",
    "        \n",
    "        return -1\n",
    "    else:\n",
    "       \n",
    "        return 1"
   ]
  },
  {
   "cell_type": "code",
   "execution_count": 25,
   "id": "9d1f8aca",
   "metadata": {},
   "outputs": [],
   "source": [
    "def shortening_service(url):\n",
    "    match = re.search('bit\\.ly|goo\\.gl|shorte\\.st|go2l\\.ink|x\\.co|ow\\.ly|t\\.co|tinyurl|tr\\.im|is\\.gd|cli\\.gs|'\n",
    "                      'yfrog\\.com|migre\\.me|ff\\.im|tiny\\.cc|url4\\.eu|twit\\.ac|su\\.pr|twurl\\.nl|snipurl\\.com|'\n",
    "                      'short\\.to|BudURL\\.com|ping\\.fm|post\\.ly|Just\\.as|bkite\\.com|snipr\\.com|fic\\.kr|loopt\\.us|'\n",
    "                      'doiop\\.com|short\\.ie|kl\\.am|wp\\.me|rubyurl\\.com|om\\.ly|to\\.ly|bit\\.do|t\\.co|lnkd\\.in|'\n",
    "                      'db\\.tt|qr\\.ae|adf\\.ly|goo\\.gl|bitly\\.com|cur\\.lv|tinyurl\\.com|ow\\.ly|bit\\.ly|ity\\.im|'\n",
    "                      'q\\.gs|is\\.gd|po\\.st|bc\\.vc|twitthis\\.com|u\\.to|j\\.mp|buzurl\\.com|cutt\\.us|u\\.bb|yourls\\.org|'\n",
    "                      'x\\.co|prettylinkpro\\.com|scrnch\\.me|filoops\\.info|vzturl\\.com|qr\\.net|1url\\.com|tweez\\.me|v\\.gd|'\n",
    "                      'tr\\.im|link\\.zip\\.net',\n",
    "                      url)\n",
    "    if match:\n",
    "        return -1\n",
    "    else:\n",
    "        return 1"
   ]
  },
  {
   "cell_type": "code",
   "execution_count": 26,
   "id": "6dac26ec",
   "metadata": {},
   "outputs": [],
   "source": [
    "def suspicious_words(url):\n",
    "    match = re.search('PayPal|login|signin|bank|account|update|free|lucky|service|bonus|ebayisapi|webscr',\n",
    "                      url)\n",
    "    if match:\n",
    "        return 1\n",
    "    else:\n",
    "        return 0"
   ]
  },
  {
   "cell_type": "code",
   "execution_count": 27,
   "id": "928e6616",
   "metadata": {},
   "outputs": [],
   "source": [
    "def get_features(url):\n",
    "    urls = []\n",
    "    url = str(url)\n",
    "    urls.append(url)\n",
    "    df = pd.DataFrame(columns=[\"link\"])\n",
    "    df[\"link\"] = urls\n",
    "    df[\"entropy\"] = df['link'].apply(lambda i:entropy(i))\n",
    "    df['url_length'] = df['link'].apply(lambda i: len(str(i)))\n",
    "    df['hostname_length'] = df['link'].apply(lambda i: len(urlparse(i).netloc))\n",
    "    df['path_length'] = df['link'].apply(lambda i: len(urlparse(i).path))\n",
    "    df['fd_length'] = df['link'].apply(lambda i: fd_length(i))\n",
    "    df['tld'] = df['link'].apply(lambda i: get_tld(i,fail_silently=True))\n",
    "    df['tld_length'] = df['tld'].apply(lambda i: tld_length(i))\n",
    "    df['count-'] = df['link'].apply(lambda i: i.count('-'))\n",
    "    df['count@'] = df['link'].apply(lambda i: i.count('@'))\n",
    "    df['count?'] = df['link'].apply(lambda i: i.count('?'))\n",
    "    df['count%'] = df['link'].apply(lambda i: i.count('%'))\n",
    "    df['count.'] = df['link'].apply(lambda i: i.count('.'))\n",
    "    df['count='] = df['link'].apply(lambda i: i.count('='))\n",
    "    df['count#'] = df['link'].apply(lambda i: i.count('#'))\n",
    "    df['count+'] = df['link'].apply(lambda i: i.count('+'))\n",
    "    df['count$'] = df['link'].apply(lambda i: i.count('$'))\n",
    "    df['count!'] = df['link'].apply(lambda i: i.count('!'))\n",
    "    df['count*'] = df['link'].apply(lambda i: i.count('*'))\n",
    "    df['count,'] = df['link'].apply(lambda i: i.count(','))\n",
    "    df['count//'] = df['link'].apply(lambda i: i.count('//'))\n",
    "    df['count-http'] = df['link'].apply(lambda i : i.count('http'))\n",
    "    df['count-https'] = df['link'].apply(lambda i : i.count('https'))\n",
    "    df['count-www'] = df['link'].apply(lambda i: i.count('www'))\n",
    "    df['count-digits']= df['link'].apply(lambda i: digit_count(i))\n",
    "    df['count-letters']= df['link'].apply(lambda i: letter_count(i))\n",
    "    df['count_dir'] = df['link'].apply(lambda i: no_of_dir(i))\n",
    "    df['use_of_ip'] = df['link'].apply(lambda i: having_ip_address(i))\n",
    "    df['short_url'] = df['link'].apply(lambda i: shortening_service(i))\n",
    "    df['sus_url'] = df['link'].apply(lambda i: suspicious_words(i))\n",
    "    df = df.drop(['link','url_length','tld','short_url',], axis=1)\n",
    "  \n",
    "    return df"
   ]
  },
  {
   "cell_type": "code",
   "execution_count": 28,
   "id": "ff624a2a",
   "metadata": {},
   "outputs": [],
   "source": [
    "df = get_features(\"https://www.google.com\")"
   ]
  },
  {
   "cell_type": "code",
   "execution_count": 29,
   "id": "d4faaf51",
   "metadata": {},
   "outputs": [
    {
     "data": {
      "text/html": [
       "<div>\n",
       "<style scoped>\n",
       "    .dataframe tbody tr th:only-of-type {\n",
       "        vertical-align: middle;\n",
       "    }\n",
       "\n",
       "    .dataframe tbody tr th {\n",
       "        vertical-align: top;\n",
       "    }\n",
       "\n",
       "    .dataframe thead th {\n",
       "        text-align: right;\n",
       "    }\n",
       "</style>\n",
       "<table border=\"1\" class=\"dataframe\">\n",
       "  <thead>\n",
       "    <tr style=\"text-align: right;\">\n",
       "      <th></th>\n",
       "      <th>entropy</th>\n",
       "      <th>hostname_length</th>\n",
       "      <th>path_length</th>\n",
       "      <th>fd_length</th>\n",
       "      <th>tld_length</th>\n",
       "      <th>count-</th>\n",
       "      <th>count@</th>\n",
       "      <th>count?</th>\n",
       "      <th>count%</th>\n",
       "      <th>count.</th>\n",
       "      <th>...</th>\n",
       "      <th>count,</th>\n",
       "      <th>count//</th>\n",
       "      <th>count-http</th>\n",
       "      <th>count-https</th>\n",
       "      <th>count-www</th>\n",
       "      <th>count-digits</th>\n",
       "      <th>count-letters</th>\n",
       "      <th>count_dir</th>\n",
       "      <th>use_of_ip</th>\n",
       "      <th>sus_url</th>\n",
       "    </tr>\n",
       "  </thead>\n",
       "  <tbody>\n",
       "    <tr>\n",
       "      <th>0</th>\n",
       "      <td>-3.663533</td>\n",
       "      <td>14</td>\n",
       "      <td>0</td>\n",
       "      <td>0</td>\n",
       "      <td>3</td>\n",
       "      <td>0</td>\n",
       "      <td>0</td>\n",
       "      <td>0</td>\n",
       "      <td>0</td>\n",
       "      <td>2</td>\n",
       "      <td>...</td>\n",
       "      <td>0</td>\n",
       "      <td>1</td>\n",
       "      <td>1</td>\n",
       "      <td>1</td>\n",
       "      <td>1</td>\n",
       "      <td>0</td>\n",
       "      <td>17</td>\n",
       "      <td>0</td>\n",
       "      <td>1</td>\n",
       "      <td>0</td>\n",
       "    </tr>\n",
       "  </tbody>\n",
       "</table>\n",
       "<p>1 rows × 26 columns</p>\n",
       "</div>"
      ],
      "text/plain": [
       "    entropy  hostname_length  path_length  fd_length  tld_length  count-  \\\n",
       "0 -3.663533               14            0          0           3       0   \n",
       "\n",
       "   count@  count?  count%  count.  ...  count,  count//  count-http  \\\n",
       "0       0       0       0       2  ...       0        1           1   \n",
       "\n",
       "   count-https  count-www  count-digits  count-letters  count_dir  use_of_ip  \\\n",
       "0            1          1             0             17          0          1   \n",
       "\n",
       "   sus_url  \n",
       "0        0  \n",
       "\n",
       "[1 rows x 26 columns]"
      ]
     },
     "execution_count": 29,
     "metadata": {},
     "output_type": "execute_result"
    }
   ],
   "source": [
    "df"
   ]
  },
  {
   "cell_type": "code",
   "execution_count": 30,
   "id": "63084ea0",
   "metadata": {},
   "outputs": [
    {
     "data": {
      "text/plain": [
       "(1, 26)"
      ]
     },
     "execution_count": 30,
     "metadata": {},
     "output_type": "execute_result"
    }
   ],
   "source": [
    "df.shape"
   ]
  },
  {
   "cell_type": "code",
   "execution_count": 31,
   "id": "1d4588d8",
   "metadata": {},
   "outputs": [],
   "source": [
    "  # with open('scaler.pkl', 'rb') as f:\n",
    "  #       scaler = pickle.load(f)\n",
    "  #   columns = df.columns\n",
    "  #   df = scaler.transform(df)"
   ]
  },
  {
   "cell_type": "code",
   "execution_count": null,
   "id": "f18f4d16",
   "metadata": {},
   "outputs": [],
   "source": []
  }
 ],
 "metadata": {
  "kernelspec": {
   "display_name": "base",
   "language": "python",
   "name": "python3"
  },
  "language_info": {
   "codemirror_mode": {
    "name": "ipython",
    "version": 3
   },
   "file_extension": ".py",
   "mimetype": "text/x-python",
   "name": "python",
   "nbconvert_exporter": "python",
   "pygments_lexer": "ipython3",
   "version": "3.9.13"
  },
  "vscode": {
   "interpreter": {
    "hash": "4a35cd003eba227aeabb2d4fc2e512e7af3546616178735d18d9916448cdf6f5"
   }
  }
 },
 "nbformat": 4,
 "nbformat_minor": 5
}
